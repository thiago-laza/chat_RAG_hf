{
 "cells": [
  {
   "cell_type": "code",
   "execution_count": 1,
   "id": "3a6799b6",
   "metadata": {},
   "outputs": [],
   "source": [
    "# Célula 1: Importações\n",
    "from langchain_community.document_loaders import TextLoader\n",
    "from langchain_community.vectorstores import Qdrant\n",
    "from langchain_community.embeddings import HuggingFaceEmbeddings\n",
    "# >>> ADICIONE ESTA LINHA ABAIXO <<<\n",
    "from langchain_community.llms import LlamaCpp\n",
    "# Para usar SystemMessage e HumanMessage (embora não estamos usando diretamente com LlamaCpp.invoke)\n",
    "from langchain.schema import HumanMessage, SystemMessage\n",
    "from IPython.display import Markdown # Se você estiver usando Jupyter/IPython\n",
    "import os"
   ]
  },
  {
   "cell_type": "code",
   "execution_count": 2,
   "id": "2f3fdf2a",
   "metadata": {},
   "outputs": [],
   "source": [
    "# Célula 2: Carregamento do Documento\n",
    "path_txt = \"/home/laza/chatbot_rag_hf/base_conhecimento.txt\"\n",
    "loader = TextLoader(path_txt, encoding=\"utf-8\")\n",
    "docs = loader.load()"
   ]
  },
  {
   "cell_type": "code",
   "execution_count": 3,
   "id": "a6fa7cb5",
   "metadata": {},
   "outputs": [
    {
     "name": "stderr",
     "output_type": "stream",
     "text": [
      "/tmp/ipykernel_111684/1038710504.py:2: LangChainDeprecationWarning: The class `HuggingFaceEmbeddings` was deprecated in LangChain 0.2.2 and will be removed in 1.0. An updated version of the class exists in the :class:`~langchain-huggingface package and should be used instead. To use it run `pip install -U :class:`~langchain-huggingface` and import as `from :class:`~langchain_huggingface import HuggingFaceEmbeddings``.\n",
      "  embeddings = HuggingFaceEmbeddings(model_name=\"BAAI/bge-small-en-v1.5\")\n",
      "/home/laza/chatbot_rag_hf/venv/lib/python3.12/site-packages/tqdm/auto.py:21: TqdmWarning: IProgress not found. Please update jupyter and ipywidgets. See https://ipywidgets.readthedocs.io/en/stable/user_install.html\n",
      "  from .autonotebook import tqdm as notebook_tqdm\n"
     ]
    }
   ],
   "source": [
    "# Célula 3: Embeddings e Qdrant\n",
    "embeddings = HuggingFaceEmbeddings(model_name=\"BAAI/bge-small-en-v1.5\")\n",
    "\n",
    "qdrant = Qdrant.from_documents(\n",
    "    documents=docs,\n",
    "    embedding=embeddings,\n",
    "    location=\":memory:\",\n",
    "    collection_name=\"criterios_mat\"\n",
    ")"
   ]
  },
  {
   "cell_type": "code",
   "execution_count": 4,
   "id": "571a85fa",
   "metadata": {},
   "outputs": [],
   "source": [
    "# Célula 4: Função custom_prompt\n",
    "def custom_prompt(query: str):\n",
    "    results = qdrant.similarity_search(query, k=5)\n",
    "    source_knowledge = \"\\n\\n\".join([doc.page_content for doc in results])\n",
    "    prompt = f\"\"\"\n",
    "Você é um avaliador pedagógico da área de Matemática. Responda com base apenas no conteúdo fornecido.\n",
    "\n",
    "Contexto:\n",
    "{source_knowledge}\n",
    "\n",
    "Pergunta:\n",
    "{query}\n",
    "\"\"\".strip()\n",
    "    return prompt"
   ]
  },
  {
   "cell_type": "code",
   "execution_count": null,
   "id": "cf9f1868",
   "metadata": {},
   "outputs": [
    {
     "name": "stdout",
     "output_type": "stream",
     "text": [
      "Carregando modelo GGUF localmente... Isso pode levar um tempo.\n"
     ]
    },
    {
     "name": "stderr",
     "output_type": "stream",
     "text": [
      "llama_context: n_ctx_per_seq (2048) < n_ctx_train (32768) -- the full capacity of the model will not be utilized\n"
     ]
    },
    {
     "name": "stdout",
     "output_type": "stream",
     "text": [
      "Modelo GGUF carregado e pronto!\n"
     ]
    }
   ],
   "source": [
    "# Célula 5: Configuração e Função Chatbot (Adaptada para LlamaCpp/GGUF Local)\n",
    "\n",
    "import os\n",
    "import shutil # Para obter a largura do terminal\n",
    "\n",
    "print(\"Carregando modelo GGUF localmente... Isso pode levar um tempo.\")\n",
    "\n",
    "model_path = \"/home/laza/chatbot_rag_hf/models/mistral-7b-instruct-v0.2.Q4_K_M.gguf\"\n",
    "\n",
    "llm = LlamaCpp(\n",
    "    model_path=model_path,\n",
    "    temperature=0.1,    # Controla a aleatoriedade da resposta\n",
    "    max_tokens=512,     # Número máximo de tokens a serem gerados\n",
    "    n_gpu_layers=20,    # VALOR CRÍTICO PARA SUA GPU - Ajuste conforme testes!\n",
    "    n_batch=512,\n",
    "    verbose=False,\n",
    "    n_ctx=2048\n",
    ")\n",
    "\n",
    "print(\"Modelo GGUF carregado e pronto!\")\n",
    "\n",
    "def chatbot(query: str):\n",
    "    base_prompt = custom_prompt(query)\n",
    "\n",
    "    # --- MUDANÇA AQUI: Fortalecendo a instrução de idioma ---\n",
    "    system_instruction = (\n",
    "        \"Você é um avaliador pedagógico da área de Matemática, claro, objetivo e embasado. \"\n",
    "        \"Responda **APENAS EM PORTUGUÊS BRASILEIRO**, com base no contexto fornecido e de forma concisa.\"\n",
    "        \"Sua resposta deve ser sempre em português. Never answer in English.\"\n",
    "    )\n",
    "    # --- FIM DA MUDANÇA ---\n",
    "\n",
    "    formatted_prompt = f\"[INST] {system_instruction}\\n\\n{base_prompt} [/INST]\"\n",
    "\n",
    "    resposta = \"\"\n",
    "    print(\"Bot: \", end=\"\", flush=True)\n",
    "\n",
    "    terminal_width = shutil.get_terminal_size().columns\n",
    "    current_line_length = 0\n",
    "\n",
    "    try:\n",
    "        for chunk in llm.stream(formatted_prompt):\n",
    "            content = chunk\n",
    "\n",
    "            for char in content:\n",
    "                print(char, end=\"\", flush=True)\n",
    "                current_line_length += 1\n",
    "\n",
    "                if char == '\\n':\n",
    "                    current_line_length = 0\n",
    "                elif current_line_length >= terminal_width:\n",
    "                    print('\\n', end=\"\", flush=True)\n",
    "                    current_line_length = 0\n",
    "            \n",
    "            resposta += content\n",
    "        print()\n",
    "    except Exception as e:\n",
    "        print(f\"\\nErro ao gerar resposta: {e}\")\n",
    "        print(\"Não foi possível obter resposta.\")\n",
    "    \n",
    "    return resposta\n",
    "\n",
    "if __name__ == \"__main__\":\n",
    "    print(\"Chatbot de Avaliação Pedagógica (Matemática)\")\n",
    "    print(\"Digite 'sair' para encerrar.\")\n",
    "\n",
    "    while True:\n",
    "        user_query = input(\"Você: \")\n",
    "        if user_query.lower() == 'sair':\n",
    "            break\n",
    "        \n",
    "        response = chatbot(user_query)"
   ]
  }
 ],
 "metadata": {
  "kernelspec": {
   "display_name": "venv",
   "language": "python",
   "name": "python3"
  },
  "language_info": {
   "codemirror_mode": {
    "name": "ipython",
    "version": 3
   },
   "file_extension": ".py",
   "mimetype": "text/x-python",
   "name": "python",
   "nbconvert_exporter": "python",
   "pygments_lexer": "ipython3",
   "version": "3.12.3"
  }
 },
 "nbformat": 4,
 "nbformat_minor": 5
}
